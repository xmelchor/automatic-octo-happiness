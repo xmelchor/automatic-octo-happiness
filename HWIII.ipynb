{
 "cells": [
  {
   "cell_type": "markdown",
   "metadata": {},
   "source": [
    "## Name one of the basic building blocks of programming and a small definition"
   ]
  },
  {
   "cell_type": "markdown",
   "metadata": {},
   "source": [
    "Variables: a name that holds a value \n",
    "ex: a number, character, or a list of numbers/characters"
   ]
  },
  {
   "cell_type": "markdown",
   "metadata": {},
   "source": [
    "## Match the data type to the approprriate data"
   ]
  },
  {
   "cell_type": "markdown",
   "metadata": {},
   "source": [
    "**Data type:** string, integer, boolean, floating point\n",
    "**Data:** true, 123, 'I am a programmer', 34.63221\n",
    "string: 'I am a programmer'\n",
    "integer: 123\n",
    "boolean: true\n",
    "floating point: 34.63221"
   ]
  },
  {
   "cell_type": "markdown",
   "metadata": {},
   "source": [
    "## What would I get if I did tried to add these two numbers together 123 and 5"
   ]
  },
  {
   "cell_type": "code",
   "execution_count": 1,
   "metadata": {},
   "outputs": [
    {
     "name": "stdout",
     "output_type": "stream",
     "text": [
      "128\n"
     ]
    }
   ],
   "source": [
    "number1 = 123\n",
    "number2 = 5\n",
    "sum = number1 + number2\n",
    "print(sum)"
   ]
  },
  {
   "cell_type": "code",
   "execution_count": 7,
   "metadata": {},
   "outputs": [
    {
     "name": "stdout",
     "output_type": "stream",
     "text": [
      "123 and 5\n"
     ]
    }
   ],
   "source": [
    "# a) if the numbers were formatted as strings\n",
    "print('123 and 5')"
   ]
  },
  {
   "cell_type": "code",
   "execution_count": null,
   "metadata": {},
   "outputs": [],
   "source": [
    "# b) if they were formatted as integers\n"
   ]
  },
  {
   "cell_type": "markdown",
   "metadata": {},
   "source": [
    "## Lists = vectors; are one dimensional arrays and a series of items -- What would the question apple_list[3] retturn? "
   ]
  },
  {
   "cell_type": "markdown",
   "metadata": {},
   "source": [
    "Computers began to count at 0 so pomergranate would return\n",
    "ex:"
   ]
  },
  {
   "cell_type": "code",
   "execution_count": 8,
   "metadata": {},
   "outputs": [
    {
     "name": "stdout",
     "output_type": "stream",
     "text": [
      "pomergranate\n"
     ]
    }
   ],
   "source": [
    "# this is the example, lulz\n",
    "apple_list=['banana','pear','kumquat','pomergranate','passion fruit']\n",
    "print(apple_list[3])"
   ]
  },
  {
   "cell_type": "markdown",
   "metadata": {},
   "source": [
    "## name a difference between lists and dictionaries"
   ]
  },
  {
   "cell_type": "markdown",
   "metadata": {},
   "source": [
    "**Lists:** are a one-dimensional array that store vectors of information that can be referred to by its' position\n",
    "ex: In [8]\n",
    "**Dicttionaries:** it's a build up of names/number that are associated with an value that is only summoned when asked and not based off position like a list/vector"
   ]
  },
  {
   "cell_type": "markdown",
   "metadata": {},
   "source": [
    "## What would you get from this question from the following dictionary: apple_dict['pear']?"
   ]
  },
  {
   "cell_type": "markdown",
   "metadata": {},
   "source": [
    "As stated from the dictionary definition, since pear is given a value of 3, if we print this out (shown in example) the pear will show '3'\n",
    "**UPDATE** I just realized it has 'apple' instead of 'fruit'. I will assume that it will give us an error or '10' and '3' like a string\n",
    "ex:"
   ]
  },
  {
   "cell_type": "code",
   "execution_count": 9,
   "metadata": {},
   "outputs": [
    {
     "ename": "NameError",
     "evalue": "name 'apple_dict' is not defined",
     "output_type": "error",
     "traceback": [
      "\u001b[0;31m---------------------------------------------------------------------------\u001b[0m",
      "\u001b[0;31mNameError\u001b[0m                                 Traceback (most recent call last)",
      "\u001b[0;32m<ipython-input-9-73e6066aac8e>\u001b[0m in \u001b[0;36m<module>\u001b[0;34m\u001b[0m\n\u001b[1;32m      3\u001b[0m \u001b[0mfruit_dict\u001b[0m\u001b[0;34m[\u001b[0m\u001b[0;34m'pear'\u001b[0m\u001b[0;34m]\u001b[0m\u001b[0;34m=\u001b[0m\u001b[0;36m3\u001b[0m\u001b[0;34m\u001b[0m\u001b[0;34m\u001b[0m\u001b[0m\n\u001b[1;32m      4\u001b[0m \u001b[0mfruit_dict\u001b[0m\u001b[0;34m[\u001b[0m\u001b[0;34m'walnut'\u001b[0m\u001b[0;34m]\u001b[0m\u001b[0;34m=\u001b[0m\u001b[0;36m216\u001b[0m\u001b[0;34m\u001b[0m\u001b[0;34m\u001b[0m\u001b[0m\n\u001b[0;32m----> 5\u001b[0;31m \u001b[0mprint\u001b[0m\u001b[0;34m(\u001b[0m\u001b[0mapple_dict\u001b[0m\u001b[0;34m[\u001b[0m\u001b[0;34m'pear'\u001b[0m\u001b[0;34m]\u001b[0m\u001b[0;34m)\u001b[0m\u001b[0;34m\u001b[0m\u001b[0;34m\u001b[0m\u001b[0m\n\u001b[0m",
      "\u001b[0;31mNameError\u001b[0m: name 'apple_dict' is not defined"
     ]
    }
   ],
   "source": [
    "fruit_dict={}\n",
    "fruit_dict['apple']=10\n",
    "fruit_dict['pear']=3\n",
    "fruit_dict['walnut']=216\n",
    "print(apple_dict['pear'])"
   ]
  },
  {
   "cell_type": "markdown",
   "metadata": {},
   "source": [
    "I was correct and it did give an error since there was no dictionary name apple_dict."
   ]
  },
  {
   "cell_type": "markdown",
   "metadata": {},
   "source": [
    "## In python, what does the function .replace() do?"
   ]
  },
  {
   "cell_type": "markdown",
   "metadata": {},
   "source": [
    "replace wil switch a character with different specified character\n",
    "ex:"
   ]
  },
  {
   "cell_type": "code",
   "execution_count": 10,
   "metadata": {},
   "outputs": [
    {
     "ename": "NameError",
     "evalue": "name 'Seq_one' is not defined",
     "output_type": "error",
     "traceback": [
      "\u001b[0;31m---------------------------------------------------------------------------\u001b[0m",
      "\u001b[0;31mNameError\u001b[0m                                 Traceback (most recent call last)",
      "\u001b[0;32m<ipython-input-10-2e5af487639d>\u001b[0m in \u001b[0;36m<module>\u001b[0;34m\u001b[0m\n\u001b[0;32m----> 1\u001b[0;31m \u001b[0mSequence_uno\u001b[0m \u001b[0;34m=\u001b[0m \u001b[0mSeq_one\u001b[0m\u001b[0;34m.\u001b[0m\u001b[0mreplace\u001b[0m\u001b[0;34m(\u001b[0m\u001b[0;34m'a'\u001b[0m\u001b[0;34m,\u001b[0m\u001b[0;34m'g'\u001b[0m\u001b[0;34m)\u001b[0m\u001b[0;34m\u001b[0m\u001b[0;34m\u001b[0m\u001b[0m\n\u001b[0m\u001b[1;32m      2\u001b[0m \u001b[0mprint\u001b[0m\u001b[0;34m(\u001b[0m\u001b[0;34m'Use of str.replace:'\u001b[0m\u001b[0;34m,\u001b[0m \u001b[0mSequence_uno\u001b[0m\u001b[0;34m)\u001b[0m\u001b[0;34m\u001b[0m\u001b[0;34m\u001b[0m\u001b[0m\n",
      "\u001b[0;31mNameError\u001b[0m: name 'Seq_one' is not defined"
     ]
    }
   ],
   "source": [
    "Sequence_uno = Seq_one.replace('a','g')\n",
    "print('Use of str.replace:', Sequence_uno)"
   ]
  },
  {
   "cell_type": "markdown",
   "metadata": {},
   "source": [
    "## How do you print something in python? Write 'hello world!'"
   ]
  },
  {
   "cell_type": "code",
   "execution_count": 11,
   "metadata": {},
   "outputs": [
    {
     "name": "stdout",
     "output_type": "stream",
     "text": [
      "hello world!\n"
     ]
    }
   ],
   "source": [
    "#!/usr/bin/env python3\n",
    "\n",
    "print('hello world!') # All I have to do is put print and parenthesis, either ' or \""
   ]
  },
  {
   "cell_type": "markdown",
   "metadata": {},
   "source": [
    "## Name one place I can go to get help with python"
   ]
  },
  {
   "cell_type": "code",
   "execution_count": null,
   "metadata": {},
   "outputs": [],
   "source": [
    "I can go to help"
   ]
  },
  {
   "cell_type": "markdown",
   "metadata": {},
   "source": [
    "## What is the difference between an if statement and a while loop?"
   ]
  },
  {
   "cell_type": "markdown",
   "metadata": {},
   "source": [
    "An if statement is implying whether an statement is true or false -- if true, it continues with the main program and if false, it redirect it to another loop\n",
    "ex:"
   ]
  },
  {
   "cell_type": "code",
   "execution_count": null,
   "metadata": {},
   "outputs": [],
   "source": [
    "equation1 = 9 > 8\n",
    "if # cant think of an example right now "
   ]
  },
  {
   "cell_type": "markdown",
   "metadata": {},
   "source": [
    "## What would you get with the command fruit_dict.keys() after entering this dictionary:\n",
    "fruit_dict = {} fruit_dict[‘apple’]=10 fruit_dict[‘pear’] = 3 fruit_dict[‘walnut’]=216"
   ]
  },
  {
   "cell_type": "markdown",
   "metadata": {},
   "source": [
    "the .keys() retturns a list from a dictionary!"
   ]
  },
  {
   "cell_type": "code",
   "execution_count": 17,
   "metadata": {},
   "outputs": [
    {
     "name": "stdout",
     "output_type": "stream",
     "text": [
      "dict_keys(['apple', 'pear', 'walnut'])\n"
     ]
    }
   ],
   "source": [
    "fruit_dict = {} \n",
    "fruit_dict['apple']=10\n",
    "fruit_dict['pear']=3\n",
    "fruit_dict['walnut']=216\n",
    "print(fruit_dict.keys())"
   ]
  },
  {
   "cell_type": "markdown",
   "metadata": {},
   "source": [
    "I didn't know it would put '', I was assuming a list like:\n",
    "apple\n",
    "pear\n",
    "walnut"
   ]
  },
  {
   "cell_type": "markdown",
   "metadata": {},
   "source": [
    "## In this statement: InFileName = open(InFileName, ‘r’) what does the ‘r’ indicate ?"
   ]
  },
  {
   "cell_type": "markdown",
   "metadata": {},
   "source": [
    "r is the read argument to your files stored in your pc"
   ]
  },
  {
   "cell_type": "markdown",
   "metadata": {},
   "source": [
    "## What does this command do? Line.strip(‘\\n’) why would you use it when printing out lines to the screen?"
   ]
  },
  {
   "cell_type": "markdown",
   "metadata": {},
   "source": [
    "it removes the line ending and it's useful when you have a fasta file or something to that and it removes a bunch of lines and shortens it!"
   ]
  },
  {
   "cell_type": "markdown",
   "metadata": {},
   "source": [
    "## How would you split a line from a csv file into a list"
   ]
  },
  {
   "cell_type": "markdown",
   "metadata": {},
   "source": [
    "using .split()"
   ]
  },
  {
   "cell_type": "markdown",
   "metadata": {},
   "source": [
    "## Create a documented python scriptt that would:\n",
    "**a.** take the numb er 112345678911234566 and count the bumber of 2s in the string anbd print out the number.\n",
    "**b.** take a senteence from user input, turn it all to loweercase letters and remove the spaces and count the length and print out the length. You choose the sentence."
   ]
  },
  {
   "cell_type": "code",
   "execution_count": 14,
   "metadata": {},
   "outputs": [
    {
     "name": "stdout",
     "output_type": "stream",
     "text": [
      "Total Number: 112345678911234566\n",
      "Number of 2s: 2\n"
     ]
    }
   ],
   "source": [
    "#!/usr/bin/env python3\n",
    "\n",
    "# this is part a!\n",
    "number = '112345678911234566'\n",
    "print('The Number:', number) # I am just printing out the number\n",
    "\n",
    "number2 = number.count('2') # I am using count to specifically count how many 2s there are in that number\n",
    "print('Number of 2s:', number2)"
   ]
  },
  {
   "cell_type": "code",
   "execution_count": 25,
   "metadata": {},
   "outputs": [
    {
     "name": "stdout",
     "output_type": "stream",
     "text": [
      "Entering a lyric: I AM HE AS YOU ARE HE AS YOU ARE ME AND WE ARE ALL TOGETHER SEE HOW THEY RUN LIKE PIGS FROM A GUN SEE HOW THEY FLY IM CRYING\n",
      "Lyrics:  iamheasyouareheasyouaremeandwearealltogetherseehowtheyrunlikepigsfromagunseehowtheyflyimcrying\n",
      "Number of letters:  95\n"
     ]
    }
   ],
   "source": [
    "#!/usr/bin/env python3\n",
    "\n",
    "#this is part b!\n",
    "\n",
    "Lyrics = 'I AM HE AS YOU ARE HE AS YOU ARE ME AND WE ARE ALL TOGETHER SEE HOW THEY RUN LIKE PIGS FROM A GUN SEE HOW THEY FLY IM CRYING'\n",
    "Lyrics = input('Entering a lyric: ')\n",
    "Lyrics = Lyrics.lower() #converting upper case to lowercase - will also help with count as it only counts either upper or lower case\n",
    "Lyrics = Lyrics.replace(' ','') # removing spaces from lyrics\n",
    "\n",
    "print('Lyrics: ', Lyrics)\n",
    "\n",
    "Lyrics1 = Lyrics.count('')\n",
    "print('Number of letters: ', Lyrics1)\n"
   ]
  },
  {
   "cell_type": "markdown",
   "metadata": {},
   "source": [
    "I FORGOT THAT RAW_INPUT IS JUST INPUT NOW, UGH\n",
    "I love this but why do I always do most of the hw but I always do the last part at the end, programmer thing?"
   ]
  },
  {
   "cell_type": "markdown",
   "metadata": {},
   "source": [
    "## Create a documented python script that will do the following two things: pseudocode is basically what I think how I need to do it, right?\n",
    "**a.** create a list of numbers (any that I please) and loop through the items in the list adding 1 to every number and print those numbers/\n",
    "**b.** create a dictionary of animals and their sizes (random animals that come into my mind). print out the keys of the dictionary. make a list of all the animals and then write an if else statement to print out the animal name and the word \"big\" if the weight is over 20 grams and the word \"small\" if the weight is less than 20 grams"
   ]
  },
  {
   "cell_type": "code",
   "execution_count": 26,
   "metadata": {},
   "outputs": [
    {
     "name": "stdout",
     "output_type": "stream",
     "text": [
      "22\n",
      "25\n",
      "9\n",
      "13\n",
      "20\n",
      "30\n",
      "11\n",
      "52\n",
      "30\n",
      "78\n",
      "56\n",
      "21\n"
     ]
    }
   ],
   "source": [
    "#!/usr/bin/env python3\n",
    "\n",
    "# So first, I need to make a list and put those square parenthesis and put numbers in there to make my list\n",
    "Listo = [21, 24, 8, 12, 19, 29, 10, 51, 29, 77, 55, 20]\n",
    "# The next step is to do a for loop so that I can tell it to look at my list, Listo!\n",
    "for num in Listo: # Lastly, I need to print it out and add 1 to every number I added so I need to use 'num' for specification and put the + sign to let it know I want to add the 1\n",
    "    print(num+1)\n"
   ]
  },
  {
   "cell_type": "code",
   "execution_count": null,
   "metadata": {},
   "outputs": [],
   "source": [
    "#!/usr/bin/env python3\n",
    "\n",
    "fluffy = {'oso':21, 'perro':8, 'tigre':24, 'leon':29, 'pescado':3}\n",
    "fluffy1 = fluffy.keys()\n",
    "print('animals: ', fluffy1)\n",
    "\n",
    "for animals in fluffy:\n",
    "    animals = int(input('Which animal is greater or smaller than 20 grams?''))\n",
    "    if animals > 20:\n",
    "        print('big')\n",
    "    elif animals < 20:\n",
    "        print('small')\n",
    "    \n",
    "\n",
    "\n",
    "\n",
    "\n"
   ]
  },
  {
   "cell_type": "markdown",
   "metadata": {},
   "source": [
    "## create a documented python script that will open up the file \"bloom_etal_2018_Dataset\". Read through the file and print out the tadon name and their diadromous status. Add up all of the log body sizes and print out the total log body size for all the individuals in the file."
   ]
  },
  {
   "cell_type": "code",
   "execution_count": null,
   "metadata": {},
   "outputs": [],
   "source": []
  },
  {
   "cell_type": "code",
   "execution_count": null,
   "metadata": {},
   "outputs": [],
   "source": []
  }
 ],
 "metadata": {
  "kernelspec": {
   "display_name": "Python 3",
   "language": "python",
   "name": "python3"
  },
  "language_info": {
   "codemirror_mode": {
    "name": "ipython",
    "version": 3
   },
   "file_extension": ".py",
   "mimetype": "text/x-python",
   "name": "python",
   "nbconvert_exporter": "python",
   "pygments_lexer": "ipython3",
   "version": "3.8.5"
  }
 },
 "nbformat": 4,
 "nbformat_minor": 4
}
